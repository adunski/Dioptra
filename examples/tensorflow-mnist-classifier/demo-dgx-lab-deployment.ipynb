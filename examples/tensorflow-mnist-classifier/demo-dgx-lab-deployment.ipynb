{
 "cells": [
  {
   "cell_type": "markdown",
   "metadata": {},
   "source": [
    "# Tensorflow MNIST Classifier demo for a Dioptra deployment"
   ]
  },
  {
   "cell_type": "markdown",
   "metadata": {},
   "source": [
    "This notebook contains an end-to-end demostration for the Dioptra architecture that is deployed on the DGX workstation."
   ]
  },
  {
   "cell_type": "markdown",
   "metadata": {},
   "source": [
    "## Setup"
   ]
  },
  {
   "cell_type": "markdown",
   "metadata": {},
   "source": [
    "**Note:** This demo is specifically for the NCCoE DGX Workstation with hostname `dgx-station-2`.\n",
    "\n",
    "Port forwarding is required in order to run this demo.\n",
    "The recommended port mapping is as follows:\n",
    "\n",
    "- Map `*:20080` on laptop to `localhost:30080` on `dgx-station-2`\n",
    "- Map `*:25000` on laptop to `localhost:35000` on `dgx-station-2`\n",
    "\n",
    "A sample SSH config file that enables the above port forwarding is provided below,\n",
    "\n",
    "> ⚠️ **Edits required**: replace `username` with your assigned username _on the NCCoE virtual machines_!"
   ]
  },
  {
   "cell_type": "markdown",
   "metadata": {},
   "source": [
    "```conf\n",
    "# vm hostname: jumphost001\n",
    "Host nccoe-jumphost001\n",
    "    Hostname 10.33.53.98\n",
    "    User username  # Change to your assigned username on the NCCoE virtual machines!\n",
    "    Port 54131\n",
    "    IdentityFile %d/.ssh/nccoe-vm\n",
    "\n",
    "# vm hostname: dgx-station-2\n",
    "Host nccoe-k8s-gpu002\n",
    "    Hostname 192.168.1.28\n",
    "    User username  # Change to your assigned username on the NCCoE virtual machines!\n",
    "    Port 22\n",
    "    IdentityFile %d/.ssh/nccoe-vm\n",
    "    ProxyJump nccoe-jumphost001\n",
    "    LocalForward *:20080 localhost:30080\n",
    "    LocalForward *:25000 localhost:35000\n",
    "```"
   ]
  },
  {
   "cell_type": "markdown",
   "metadata": {},
   "source": [
    "Now, connect to the NCCoE VPN and SSH into the DGX Workstation,"
   ]
  },
  {
   "cell_type": "markdown",
   "metadata": {},
   "source": [
    "```bash\n",
    "ssh nccoe-k8s-gpu002\n",
    "```"
   ]
  },
  {
   "cell_type": "markdown",
   "metadata": {},
   "source": [
    "Next, we import the necessary Python modules and ensure the proper environment variables are set so that all the code blocks will work as expected.\n",
    "\n",
    "> ⚠️ **Edits possibly required**: update the value of the `HOST_DOCKER_INTERNAL` variable\n",
    "\n",
    "If this notebook is being served to you via Docker (i.e. you ran `make jupyter` to launch this notebook), **then you may need to change the value assigned to the variable `HOST_DOCKER_INTERNAL`** to make the port forwarding you configured in the previous step accessible within the container.\n",
    "The value you need to assign to the variable to depends on your host device's operating system:\n",
    "\n",
    "- **Case 1: Host operating system is Windows 10 or MacOS**\n",
    "  - Set `HOST_DOCKER_INTERNAL = \"host.docker.internal\"`. This is the default setting.\n",
    "- **Case 2: Host operating system is Linux**\n",
    "  - Run either `ip address` or `ifconfig` to print a list of the available network interfaces on your host device\n",
    "  - Locate the `docker0` interface and take note of the associated IP address (this is commonly set to `172.17.0.1`)\n",
    "  - Set `HOST_DOCKER_INTERNAL` equal to the IP address for the `docker0` interface. So, if the IP address was `172.17.0.1`, then you would set `HOST_DOCKER_INTERNAL = \"172.17.0.1\"`\n",
    "  \n",
    "If you started your Jupyter Lab instance from a conda environment, then you do not need to change anything.\n",
    "The code below uses an environment variable to check whether this notebook is being served via the `jupyter` service, and if that variable isn't found, then the connection address reverts to `localhost` and ignores the `HOST_DOCKER_INTERNAL` variable."
   ]
  },
  {
   "cell_type": "code",
   "execution_count": null,
   "metadata": {},
   "outputs": [],
   "source": [
    "# Import packages from the Python standard library\n",
    "import os\n",
    "import pprint\n",
    "import time\n",
    "import warnings\n",
    "from pathlib import Path\n",
    "from typing import Tuple\n",
    "\n",
    "# Filter out warning messages\n",
    "warnings.filterwarnings(\"ignore\")\n",
    "\n",
    "# Address for connecting the docker container to exposed ports on the host device (see above instructions for details)\n",
    "HOST_DOCKER_INTERNAL = \"host.docker.internal\"\n",
    "# HOST_DOCKER_INTERNAL = \"172.17.0.1\"\n",
    "\n",
    "# Default address for accessing the RESTful API service\n",
    "RESTAPI_ADDRESS = (\n",
    "    f\"http://{HOST_DOCKER_INTERNAL}:20080\"\n",
    "    if os.getenv(\"IS_JUPYTER_SERVICE\")\n",
    "    else \"http://localhost:20080\"\n",
    ")\n",
    "\n",
    "# Override the DIOPTRA_RESTAPI_URI variable, used to connect to RESTful API service\n",
    "os.environ[\"DIOPTRA_RESTAPI_URI\"] = RESTAPI_ADDRESS\n",
    "\n",
    "# Default address for accessing the MLFlow Tracking server\n",
    "MLFLOW_TRACKING_URI = (\n",
    "    f\"http://{HOST_DOCKER_INTERNAL}:25000\"\n",
    "    if os.getenv(\"IS_JUPYTER_SERVICE\")\n",
    "    else \"http://localhost:25000\"\n",
    ")\n",
    "\n",
    "# Override the MLFLOW_TRACKING_URI variable, used to connect to MLFlow Tracking service\n",
    "os.environ[\"MLFLOW_TRACKING_URI\"] = MLFLOW_TRACKING_URI\n",
    "\n",
    "# Base API address\n",
    "RESTAPI_API_BASE = f\"{RESTAPI_ADDRESS}/api\"\n",
    "\n",
    "# Path to custom task plugins archives\n",
    "CUSTOM_PLUGINS_EVALUATION_TAR_GZ = Path(\"custom-plugins-evaluation.tar.gz\")\n",
    "\n",
    "# Path to workflows archive\n",
    "WORKFLOWS_TAR_GZ = Path(\"workflows.tar.gz\")\n",
    "\n",
    "# Experiment name (note the username_ prefix convention, you should change this to match your username)\n",
    "EXPERIMENT_NAME = \"dioptrauser_mnist\"\n",
    "\n",
    "# Import third-party Python packages\n",
    "import numpy as np\n",
    "import requests\n",
    "from mlflow.tracking import MlflowClient\n",
    "\n",
    "# Import utils.py file\n",
    "import utils\n",
    "\n",
    "# Create random number generator\n",
    "rng = np.random.default_rng(54399264723942495723666216079516778448)"
   ]
  },
  {
   "cell_type": "markdown",
   "metadata": {},
   "source": [
    "## Dataset"
   ]
  },
  {
   "cell_type": "markdown",
   "metadata": {},
   "source": [
    "We obtained a copy of the MNIST dataset as part of the startup process invoked by `make demo`.\n",
    "The training and testing images for the MNIST dataset are stored within the `data/` directory as PNG files that are organized into the following folder structure,"
   ]
  },
  {
   "cell_type": "markdown",
   "metadata": {},
   "source": [
    "    Mnist\n",
    "    ├── testing\n",
    "    │   ├── 0\n",
    "    │   ├── 1\n",
    "    │   ├── 2\n",
    "    │   ├── 3\n",
    "    │   ├── 4\n",
    "    │   ├── 5\n",
    "    │   ├── 6\n",
    "    │   ├── 7\n",
    "    │   ├── 8\n",
    "    │   └── 9\n",
    "    └── training\n",
    "        ├── 0\n",
    "        ├── 1\n",
    "        ├── 2\n",
    "        ├── 3\n",
    "        ├── 4\n",
    "        ├── 5\n",
    "        ├── 6\n",
    "        ├── 7\n",
    "        ├── 8\n",
    "        └── 9"
   ]
  },
  {
   "cell_type": "markdown",
   "metadata": {},
   "source": [
    "The subfolders under `Mnist/training/` and `Mnist/testing/` are the classification labels for the images in the dataset.\n",
    "This folder structure is a standardized way to encode the label information and many libraries can make use of it, including the Tensorflow library that we are using for this particular demo."
   ]
  },
  {
   "cell_type": "markdown",
   "metadata": {},
   "source": [
    "## Submit and run jobs"
   ]
  },
  {
   "cell_type": "markdown",
   "metadata": {},
   "source": [
    "The entrypoints that we will be running in this example are implemented in the Python source files under `src/` and the `MLproject` file.\n",
    "To run these entrypoints within Dioptra's architecture, we need to package those files up into an archive and submit it to the Dioptra RESTful API to create a new job.\n",
    "For convenience, the `Makefile` provides a rule for creating the archive file for this example, just run `make workflows`,"
   ]
  },
  {
   "cell_type": "code",
   "execution_count": null,
   "metadata": {},
   "outputs": [],
   "source": [
    "%%bash\n",
    "\n",
    "# Create the workflows.tar.gz file\n",
    "make workflows"
   ]
  },
  {
   "cell_type": "markdown",
   "metadata": {},
   "source": [
    "To connect with the endpoint, we will use a client class defined in the `utils.py` file that is able to connect with the Dioptra RESTful API using the HTTP protocol.\n",
    "We connect using the client below, which uses the environment variable `DIOPTRA_RESTAPI_URI` to figure out how to connect to the Dioptra RESTful API,"
   ]
  },
  {
   "cell_type": "code",
   "execution_count": null,
   "metadata": {},
   "outputs": [],
   "source": [
    "restapi_client = utils.DioptraClient()"
   ]
  },
  {
   "cell_type": "markdown",
   "metadata": {},
   "source": [
    "We need to register an experiment under which to collect our job runs.\n",
    "The code below checks if the relevant experiment (named `\"dioptrauser_mnist\"` by default) exists.\n",
    "If it does, then it just returns info about the experiment, if it doesn't, it then registers the new experiment."
   ]
  },
  {
   "cell_type": "code",
   "execution_count": null,
   "metadata": {},
   "outputs": [],
   "source": [
    "response_experiment = restapi_client.get_experiment_by_name(name=EXPERIMENT_NAME)\n",
    "\n",
    "if response_experiment is None or \"Not Found\" in response_experiment.get(\"message\", []):\n",
    "    response_experiment = restapi_client.register_experiment(name=EXPERIMENT_NAME)\n",
    "\n",
    "response_experiment"
   ]
  },
  {
   "cell_type": "markdown",
   "metadata": {},
   "source": [
    "We should also check which queues are available for running our jobs to make sure that the resources that we need are available.\n",
    "The code below queries the Lab API and returns a list of active queues.\n",
    "We expect two queues to be available, `\"tensorflow_cpu\"` and `\"tensorflow_gpu\"`."
   ]
  },
  {
   "cell_type": "code",
   "execution_count": null,
   "metadata": {},
   "outputs": [],
   "source": [
    "restapi_client.list_queues()"
   ]
  },
  {
   "cell_type": "markdown",
   "metadata": {},
   "source": [
    "This example also makes use of the `evaluation` custom task plugin package stored locally under the `task-plugins/dioptra_custom/evaluation` directory.\n",
    "To register these custom task plugins, we first need to package them up into an archive.\n",
    "For convenience, the `Makefile` provides a rule for creating the custom task plugins archive file, just run `make custom-plugins`,"
   ]
  },
  {
   "cell_type": "code",
   "execution_count": null,
   "metadata": {},
   "outputs": [],
   "source": [
    "%%bash\n",
    "\n",
    "# Create the workflows.tar.gz file\n",
    "make custom-plugins"
   ]
  },
  {
   "cell_type": "markdown",
   "metadata": {},
   "source": [
    "Now that the `evaluation` custom task plugin package is packaged into an archive file, next we register it by uploading the file to the REST API.\n",
    "Note that we need to provide the name to use for custom task plugin package, this name must be unique under the custom task plugins namespace.\n",
    "For a full list of the custom task plugins, use `restapi_client.restapi_client.list_custom_task_plugins()`."
   ]
  },
  {
   "cell_type": "code",
   "execution_count": null,
   "metadata": {},
   "outputs": [],
   "source": [
    "response_custom_plugins = restapi_client.get_custom_task_plugin(name=\"evaluation\")\n",
    "\n",
    "if response_custom_plugins is None or \"Not Found\" in response_custom_plugins.get(\"message\", []):\n",
    "    response_custom_plugins = restapi_client.upload_custom_plugin_package(\n",
    "        custom_plugin_name=\"evaluation\",\n",
    "        custom_plugin_file=CUSTOM_PLUGINS_EVALUATION_TAR_GZ,\n",
    "    )\n",
    "\n",
    "response_custom_plugins"
   ]
  },
  {
   "cell_type": "markdown",
   "metadata": {},
   "source": [
    "If at any point you need to update one or more files within the `evaluation` plugin package, you will need to unregister/delete the custom task plugin first using the REST API.\n",
    "This can be done as follows,"
   ]
  },
  {
   "cell_type": "markdown",
   "metadata": {},
   "source": [
    "```python\n",
    "# Delete the 'evaluation' custom task plugin package\n",
    "restapi_client.delete_custom_task_plugin(name=\"evaluation\")\n",
    "```"
   ]
  },
  {
   "cell_type": "markdown",
   "metadata": {},
   "source": [
    "After you have deleted the task plugin from Dioptra, re-run the `make custom-plugins` code block to update the package archive, then upload the updated plugin by re-running the `restapi_client.upload_custom_plugin_packge` block.\n",
    "\n",
    "Next, we need to train our model.\n",
    "We will be using the V100 GPUs that are available on the DGX Workstation, which we can use by submitting our job to the `\"tensorflow_gpu\"` queue.\n",
    "We will train three models, a shallow network model, a LeNet-5 model, and an AlexNet model,"
   ]
  },
  {
   "cell_type": "code",
   "execution_count": null,
   "metadata": {},
   "outputs": [],
   "source": [
    "response_shallow_train = restapi_client.submit_job(\n",
    "    workflows_file=WORKFLOWS_TAR_GZ,\n",
    "    experiment_name=EXPERIMENT_NAME,\n",
    "    entry_point=\"train\",\n",
    "    entry_point_kwargs=\" \".join([\n",
    "        \"-P batch_size=256\",\n",
    "        f\"-P register_model_name={EXPERIMENT_NAME}_shallow_net\",\n",
    "        \"-P model_architecture=shallow_net\",\n",
    "        \"-P epochs=30\",\n",
    "        \"-P data_dir=/nfs/data/Mnist\",\n",
    "    ]),\n",
    "    queue=\"tensorflow_gpu\",\n",
    "    timeout=\"1h\",\n",
    ")\n",
    "\n",
    "print(\"Training job for shallow neural network submitted\")\n",
    "print(\"\")\n",
    "pprint.pprint(response_shallow_train)"
   ]
  },
  {
   "cell_type": "code",
   "execution_count": null,
   "metadata": {},
   "outputs": [],
   "source": [
    "response_le_net_train = restapi_client.submit_job(\n",
    "    workflows_file=WORKFLOWS_TAR_GZ,\n",
    "    experiment_name=EXPERIMENT_NAME,\n",
    "    entry_point=\"train\",\n",
    "    entry_point_kwargs=\" \".join([\n",
    "        \"-P batch_size=256\",\n",
    "        f\"-P register_model_name={EXPERIMENT_NAME}_le_net\",\n",
    "        \"-P model_architecture=le_net\",\n",
    "        \"-P epochs=30\",\n",
    "        \"-P data_dir=/nfs/data/Mnist\",\n",
    "    ]),\n",
    "    queue=\"tensorflow_gpu\",\n",
    "    timeout=\"1h\",\n",
    ")\n",
    "\n",
    "print(\"Training job for LeNet-5 neural network submitted\")\n",
    "print(\"\")\n",
    "pprint.pprint(response_le_net_train)"
   ]
  },
  {
   "cell_type": "code",
   "execution_count": null,
   "metadata": {},
   "outputs": [],
   "source": [
    "response_alex_net_train = restapi_client.submit_job(\n",
    "    workflows_file=WORKFLOWS_TAR_GZ,\n",
    "    experiment_name=EXPERIMENT_NAME,\n",
    "    entry_point=\"train\",\n",
    "    entry_point_kwargs=\" \".join([\n",
    "        \"-P batch_size=256\",\n",
    "        f\"-P register_model_name={EXPERIMENT_NAME}_alex_net\",\n",
    "        \"-P model_architecture=alex_net\",\n",
    "        \"-P epochs=40\",\n",
    "        \"-P image_size=224,224,1\",\n",
    "        \"-P data_dir=/nfs/data/Mnist\",\n",
    "    ]),\n",
    "    queue=\"tensorflow_gpu\",\n",
    "    timeout=\"6h\",\n",
    ")\n",
    "\n",
    "print(\"Training job for AlexNet neural network submitted\")\n",
    "print(\"\")\n",
    "pprint.pprint(response_alex_net_train)"
   ]
  },
  {
   "cell_type": "markdown",
   "metadata": {},
   "source": [
    "Now that we have three trained models (the shallow network, the LeNet-5 network, and AlexNet), next we will apply the fast-gradient method (FGM) evasion attack on the shallow network to generate adversarial images.\n",
    "Then, after we have the adversarial images, we will use them to evaluate some standard machine learning metrics against both models.\n",
    "This will give us a sense of the transferability of the attacks between models.\n",
    "\n",
    "This specific workflow is an example of jobs that contain dependencies, as the metric evaluation jobs cannot start until the adversarial image generation jobs have completed.\n",
    "Dioptra allows users to declare one-to-many job dependencies like this, which we will use to queue up jobs to start immediately after the previous jobs have concluded.\n",
    "The code below illustrates this by doing the following:\n",
    "\n",
    "1. A job is submitted that generates adversarial images based on the shallow net architecture (entry point **fgm**).\n",
    "1. We wait until the job starts and a MLFlow identifier is assigned, which we check by polling the API until we see the id appear.\n",
    "1. Once we have an id returned to us from the API, we queue up the metrics evaluation jobs and declare the job dependency using the `depends_on` option.\n",
    "1. The message \"Dependent jobs submitted\" will display once everything is queued up."
   ]
  },
  {
   "cell_type": "code",
   "execution_count": null,
   "metadata": {},
   "outputs": [],
   "source": [
    "def mlflow_run_id_is_not_known(response_fgm):\n",
    "    return response_fgm[\"mlflowRunId\"] is None and response_fgm[\"status\"] not in [\n",
    "        \"failed\",\n",
    "        \"finished\",\n",
    "    ]\n",
    "\n",
    "response_fgm_shallow_net = restapi_client.submit_job(\n",
    "    workflows_file=WORKFLOWS_TAR_GZ,\n",
    "    experiment_name=EXPERIMENT_NAME,\n",
    "    entry_point=\"fgm\",\n",
    "    entry_point_kwargs=\" \".join(\n",
    "        [\n",
    "            f\"-P model_name={EXPERIMENT_NAME}_shallow_net\",\n",
    "            \"-P model_version=1\",\n",
    "            \"-P data_dir=/nfs/data/Mnist\",\n",
    "            \"-P batch_size=512\",\n",
    "        ]\n",
    "    ),\n",
    ")\n",
    "\n",
    "print(\"FGM attack (shallow net architecture) job submitted\")\n",
    "print(\"\")\n",
    "pprint.pprint(response_fgm_shallow_net)\n",
    "print(\"\")\n",
    "\n",
    "while mlflow_run_id_is_not_known(response_fgm_shallow_net):\n",
    "    time.sleep(1)\n",
    "    response_fgm_shallow_net = restapi_client.get_job_by_id(\n",
    "        response_fgm_shallow_net[\"jobId\"]\n",
    "    )\n",
    "\n",
    "response_shallow_net_infer_shallow_net = restapi_client.submit_job(\n",
    "    workflows_file=WORKFLOWS_TAR_GZ,\n",
    "    experiment_name=EXPERIMENT_NAME,\n",
    "    entry_point=\"infer\",\n",
    "    entry_point_kwargs=\" \".join(\n",
    "        [\n",
    "            f\"-P run_id={response_fgm_shallow_net['mlflowRunId']}\",\n",
    "            f\"-P model_name={EXPERIMENT_NAME}_shallow_net\",\n",
    "            \"-P model_version=1\",\n",
    "        ]\n",
    "    ),\n",
    "    queue=\"tensorflow_gpu\",\n",
    "    depends_on=response_fgm_shallow_net[\"jobId\"],\n",
    ")\n",
    "\n",
    "response_le_net_infer_shallow_net = restapi_client.submit_job(\n",
    "    workflows_file=WORKFLOWS_TAR_GZ,\n",
    "    experiment_name=EXPERIMENT_NAME,\n",
    "    entry_point=\"infer\",\n",
    "    entry_point_kwargs=\" \".join(\n",
    "        [\n",
    "            f\"-P run_id={response_fgm_shallow_net['mlflowRunId']}\",\n",
    "            f\"-P model_name={EXPERIMENT_NAME}_le_net\",\n",
    "            \"-P model_version=1\",\n",
    "        ]\n",
    "    ),\n",
    "    queue=\"tensorflow_gpu\",\n",
    "    depends_on=response_fgm_shallow_net[\"jobId\"],\n",
    ")\n",
    "\n",
    "response_alex_net_infer_shallow_net = restapi_client.submit_job(\n",
    "    workflows_file=WORKFLOWS_TAR_GZ,\n",
    "    experiment_name=EXPERIMENT_NAME,\n",
    "    entry_point=\"infer\",\n",
    "    entry_point_kwargs=\" \".join(\n",
    "        [\n",
    "            f\"-P run_id={response_fgm_shallow_net['mlflowRunId']}\",\n",
    "            f\"-P model_name={EXPERIMENT_NAME}_alex_net\",\n",
    "            \"-P model_version=1\",\n",
    "            \"-P image_size=224,224,1\",\n",
    "        ]\n",
    "    ),\n",
    "    queue=\"tensorflow_gpu\",\n",
    "    depends_on=response_fgm_shallow_net[\"jobId\"],\n",
    ")\n",
    "\n",
    "print(\"Dependent jobs submitted\")"
   ]
  },
  {
   "cell_type": "markdown",
   "metadata": {},
   "source": [
    "We can poll the status of the dependent jobs using the code below.\n",
    "We should see the status of the jobs shift from \"queued\" to \"started\" and eventually become \"finished\"."
   ]
  },
  {
   "cell_type": "code",
   "execution_count": null,
   "metadata": {},
   "outputs": [],
   "source": [
    "response_shallow_net_infer_shallow_net = restapi_client.get_job_by_id(\n",
    "    response_shallow_net_infer_shallow_net[\"jobId\"]\n",
    ")\n",
    "response_le_net_infer_shallow_net = restapi_client.get_job_by_id(\n",
    "    response_le_net_infer_shallow_net[\"jobId\"]\n",
    ")\n",
    "response_alex_net_infer_shallow_net = restapi_client.get_job_by_id(\n",
    "    response_alex_net_infer_shallow_net[\"jobId\"]\n",
    ")\n",
    "\n",
    "pprint.pprint(response_shallow_net_infer_shallow_net)\n",
    "print(\"\")\n",
    "pprint.pprint(response_le_net_infer_shallow_net)\n",
    "print(\"\")\n",
    "pprint.pprint(response_alex_net_infer_shallow_net)"
   ]
  },
  {
   "cell_type": "markdown",
   "metadata": {},
   "source": [
    "We can similiarly run an FGM-based evasion attack using the LeNet-5 architecture as our starting point.\n",
    "The following code is very similar to the code we just saw, all we've done is swap out the entry point keyword argument that requests the shallow net architecture with a version that requests the LeNet-5 architecture."
   ]
  },
  {
   "cell_type": "code",
   "execution_count": null,
   "metadata": {},
   "outputs": [],
   "source": [
    "response_fgm_le_net = restapi_client.submit_job(\n",
    "    workflows_file=WORKFLOWS_TAR_GZ,\n",
    "    experiment_name=EXPERIMENT_NAME,\n",
    "    entry_point=\"fgm\",\n",
    "    entry_point_kwargs=\" \".join(\n",
    "        [\n",
    "            f\"-P model_name={EXPERIMENT_NAME}_le_net\",\n",
    "            \"-P model_version=1\",\n",
    "            \"-P data_dir=/nfs/data/Mnist\",\n",
    "            \"-P batch_size=512\",\n",
    "        ]\n",
    "    ),\n",
    ")\n",
    "\n",
    "print(\"FGM attack (LeNet-5 architecture) job submitted\")\n",
    "print(\"\")\n",
    "pprint.pprint(response_fgm_le_net)\n",
    "print(\"\")\n",
    "\n",
    "while mlflow_run_id_is_not_known(response_fgm_le_net):\n",
    "    time.sleep(1)\n",
    "    response_fgm_le_net = restapi_client.get_job_by_id(response_fgm_le_net[\"jobId\"])\n",
    "\n",
    "response_shallow_net_infer_le_net_fgm = restapi_client.submit_job(\n",
    "    workflows_file=WORKFLOWS_TAR_GZ,\n",
    "    experiment_name=EXPERIMENT_NAME,\n",
    "    entry_point=\"infer\",\n",
    "    entry_point_kwargs=\" \".join(\n",
    "        [\n",
    "            f\"-P run_id={response_fgm_le_net['mlflowRunId']}\",\n",
    "            f\"-P model_name={EXPERIMENT_NAME}_shallow_net\",\n",
    "            \"-P model_version=1\",\n",
    "        ]\n",
    "    ),\n",
    "    queue=\"tensorflow_gpu\",\n",
    "    depends_on=response_fgm_le_net[\"jobId\"],\n",
    ")\n",
    "\n",
    "response_le_net_infer_le_net_fgm = restapi_client.submit_job(\n",
    "    workflows_file=WORKFLOWS_TAR_GZ,\n",
    "    experiment_name=EXPERIMENT_NAME,\n",
    "    entry_point=\"infer\",\n",
    "    entry_point_kwargs=\" \".join(\n",
    "        [\n",
    "            f\"-P run_id={response_fgm_le_net['mlflowRunId']}\",\n",
    "            f\"-P model_name={EXPERIMENT_NAME}_le_net\",\n",
    "            \"-P model_version=1\",\n",
    "        ]\n",
    "    ),\n",
    "    queue=\"tensorflow_gpu\",\n",
    "    depends_on=response_fgm_le_net[\"jobId\"],\n",
    ")\n",
    "\n",
    "response_alex_net_infer_le_net_fgm = restapi_client.submit_job(\n",
    "    workflows_file=WORKFLOWS_TAR_GZ,\n",
    "    experiment_name=EXPERIMENT_NAME,\n",
    "    entry_point=\"infer\",\n",
    "    entry_point_kwargs=\" \".join(\n",
    "        [\n",
    "            f\"-P run_id={response_fgm_le_net['mlflowRunId']}\",\n",
    "            f\"-P model_name={EXPERIMENT_NAME}_alex_net\",\n",
    "            \"-P model_version=1\",\n",
    "            \"-P image_size=224,224,1\",\n",
    "        ]\n",
    "    ),\n",
    "    queue=\"tensorflow_gpu\",\n",
    "    depends_on=response_fgm_le_net[\"jobId\"],\n",
    ")\n",
    "\n",
    "print(\"Dependent jobs submitted\")"
   ]
  },
  {
   "cell_type": "markdown",
   "metadata": {},
   "source": [
    "Like before, we can monitor the status of the dependent jobs by querying the API using the code block below."
   ]
  },
  {
   "cell_type": "code",
   "execution_count": null,
   "metadata": {},
   "outputs": [],
   "source": [
    "response_shallow_net_infer_le_net_fgm = restapi_client.get_job_by_id(\n",
    "    response_shallow_net_infer_le_net_fgm[\"jobId\"]\n",
    ")\n",
    "response_le_net_infer_le_net_fgm = restapi_client.get_job_by_id(\n",
    "    response_le_net_infer_le_net_fgm[\"jobId\"]\n",
    ")\n",
    "response_alex_net_infer_le_net_fgm = restapi_client.get_job_by_id(\n",
    "    response_alex_net_infer_le_net_fgm[\"jobId\"]\n",
    ")\n",
    "\n",
    "pprint.pprint(response_shallow_net_infer_le_net_fgm)\n",
    "print(\"\")\n",
    "pprint.pprint(response_le_net_infer_le_net_fgm)\n",
    "print(\"\")\n",
    "pprint.pprint(response_alex_net_infer_le_net_fgm)"
   ]
  },
  {
   "cell_type": "markdown",
   "metadata": {},
   "source": [
    "Finally, we run an FGM-based evasion attack using the AlexNet architecture as our starting point."
   ]
  },
  {
   "cell_type": "code",
   "execution_count": null,
   "metadata": {},
   "outputs": [],
   "source": [
    "response_fgm_alex_net = restapi_client.submit_job(\n",
    "    workflows_file=WORKFLOWS_TAR_GZ,\n",
    "    experiment_name=EXPERIMENT_NAME,\n",
    "    entry_point=\"fgm\",\n",
    "    entry_point_kwargs=\" \".join(\n",
    "        [\n",
    "            f\"-P model_name={EXPERIMENT_NAME}_alex_net\",\n",
    "            \"-P model_version=1\",\n",
    "            \"-P data_dir=/nfs/data/Mnist\",\n",
    "            \"-P batch_size=64\",\n",
    "            \"-P image_size=224,224,1\",\n",
    "        ]\n",
    "    ),\n",
    ")\n",
    "\n",
    "print(\"FGM attack (AlexNet architecture) job submitted\")\n",
    "print(\"\")\n",
    "pprint.pprint(response_fgm_alex_net)\n",
    "print(\"\")\n",
    "\n",
    "while mlflow_run_id_is_not_known(response_fgm_alex_net):\n",
    "    time.sleep(1)\n",
    "    response_fgm_alex_net = restapi_client.get_job_by_id(response_fgm_alex_net[\"jobId\"])\n",
    "\n",
    "response_shallow_net_infer_alex_net_fgm = restapi_client.submit_job(\n",
    "    workflows_file=WORKFLOWS_TAR_GZ,\n",
    "    experiment_name=EXPERIMENT_NAME,\n",
    "    entry_point=\"infer\",\n",
    "    entry_point_kwargs=\" \".join(\n",
    "        [\n",
    "            f\"-P run_id={response_fgm_alex_net['mlflowRunId']}\",\n",
    "            f\"-P model_name={EXPERIMENT_NAME}_shallow_net\",\n",
    "            \"-P model_version=1\",\n",
    "        ]\n",
    "    ),\n",
    "    queue=\"tensorflow_gpu\",\n",
    "    depends_on=response_fgm_alex_net[\"jobId\"],\n",
    ")\n",
    "\n",
    "response_le_net_infer_alex_net_fgm = restapi_client.submit_job(\n",
    "    workflows_file=WORKFLOWS_TAR_GZ,\n",
    "    experiment_name=EXPERIMENT_NAME,\n",
    "    entry_point=\"infer\",\n",
    "    entry_point_kwargs=\" \".join(\n",
    "        [\n",
    "            f\"-P run_id={response_fgm_alex_net['mlflowRunId']}\",\n",
    "            f\"-P model_name={EXPERIMENT_NAME}_le_net\",\n",
    "            \"-P model_version=1\",\n",
    "        ]\n",
    "    ),\n",
    "    queue=\"tensorflow_gpu\",\n",
    "    depends_on=response_fgm_alex_net[\"jobId\"],\n",
    ")\n",
    "\n",
    "response_alex_net_infer_alex_net_fgm = restapi_client.submit_job(\n",
    "    workflows_file=WORKFLOWS_TAR_GZ,\n",
    "    experiment_name=EXPERIMENT_NAME,\n",
    "    entry_point=\"infer\",\n",
    "    entry_point_kwargs=\" \".join(\n",
    "        [\n",
    "            f\"-P run_id={response_fgm_alex_net['mlflowRunId']}\",\n",
    "            f\"-P model_name={EXPERIMENT_NAME}_alex_net\",\n",
    "            \"-P model_version=1\",\n",
    "            \"-P image_size=224,224,1\",\n",
    "        ]\n",
    "    ),\n",
    "    queue=\"tensorflow_gpu\",\n",
    "    depends_on=response_fgm_alex_net[\"jobId\"],\n",
    ")\n",
    "\n",
    "print(\"Dependent jobs submitted\")"
   ]
  },
  {
   "cell_type": "markdown",
   "metadata": {},
   "source": [
    "Like always, we can monitor the status of the dependent jobs by querying the API using the code block below."
   ]
  },
  {
   "cell_type": "code",
   "execution_count": null,
   "metadata": {},
   "outputs": [],
   "source": [
    "response_shallow_net_infer_alex_net_fgm = restapi_client.get_job_by_id(\n",
    "    response_shallow_net_infer_alex_net_fgm[\"jobId\"]\n",
    ")\n",
    "response_le_net_infer_alex_net_fgm = restapi_client.get_job_by_id(\n",
    "    response_le_net_infer_alex_net_fgm[\"jobId\"]\n",
    ")\n",
    "response_alex_net_infer_alex_net_fgm = restapi_client.get_job_by_id(\n",
    "    response_alex_net_infer_alex_net_fgm[\"jobId\"]\n",
    ")\n",
    "\n",
    "pprint.pprint(response_shallow_net_infer_alex_net_fgm)\n",
    "print(\"\")\n",
    "pprint.pprint(response_le_net_infer_alex_net_fgm)\n",
    "print(\"\")\n",
    "pprint.pprint(response_alex_net_infer_alex_net_fgm)"
   ]
  },
  {
   "cell_type": "markdown",
   "metadata": {},
   "source": [
    "Congratulations, you've just run your first experiment using the DGX deployment of Dioptra!"
   ]
  },
  {
   "cell_type": "markdown",
   "metadata": {},
   "source": [
    "## Querying the MLFlow Tracking Service"
   ]
  },
  {
   "cell_type": "markdown",
   "metadata": {},
   "source": [
    "Currently the Dioptra API can only be used to register experiments and start jobs, so if users wish to extract their results programmatically, they can use the `MlflowClient()` class from the `mlflow` Python package to connect and query their results.\n",
    "Since we captured the run ids generated by MLFlow, we can easily retrieve the data logged about one of our jobs and inspect the results.\n",
    "To start the client, we simply need to run,"
   ]
  },
  {
   "cell_type": "code",
   "execution_count": null,
   "metadata": {},
   "outputs": [],
   "source": [
    "mlflow_client = MlflowClient()"
   ]
  },
  {
   "cell_type": "markdown",
   "metadata": {},
   "source": [
    "The client uses the environment variable `MLFLOW_TRACKING_URI` to figure out how to connect to the MLFlow Tracking Service, which we configured near the top of this notebook.\n",
    "To query the results of one of our runs, we just need to pass the run id to the client's `get_run()` method.\n",
    "As an example, let's query the run results for the FGM attack applied to the LeNet-5 architecture,"
   ]
  },
  {
   "cell_type": "code",
   "execution_count": null,
   "metadata": {},
   "outputs": [],
   "source": [
    "fgm_run_le_net = mlflow_client.get_run(response_fgm_le_net[\"mlflowRunId\"])"
   ]
  },
  {
   "cell_type": "markdown",
   "metadata": {},
   "source": [
    "If the request completed successfully, we should now be able to query data collected during the run.\n",
    "For example, to review the collected metrics, we just use,"
   ]
  },
  {
   "cell_type": "code",
   "execution_count": null,
   "metadata": {},
   "outputs": [],
   "source": [
    "pprint.pprint(fgm_run_le_net.data.metrics)"
   ]
  },
  {
   "cell_type": "markdown",
   "metadata": {},
   "source": [
    "To review the run's parameters, we use,"
   ]
  },
  {
   "cell_type": "code",
   "execution_count": null,
   "metadata": {},
   "outputs": [],
   "source": [
    "pprint.pprint(fgm_run_le_net.data.params)"
   ]
  },
  {
   "cell_type": "markdown",
   "metadata": {},
   "source": [
    "To review the run's tags, we use,"
   ]
  },
  {
   "cell_type": "code",
   "execution_count": null,
   "metadata": {},
   "outputs": [],
   "source": [
    "pprint.pprint(fgm_run_le_net.data.tags)"
   ]
  },
  {
   "cell_type": "markdown",
   "metadata": {},
   "source": [
    "There are many things you can query using the MLFlow client.\n",
    "[The MLFlow documentation gives a full overview of the methods that are available](https://www.mlflow.org/docs/latest/python_api/mlflow.tracking.html#mlflow.tracking.MlflowClient)."
   ]
  }
 ],
 "metadata": {
  "interpreter": {
   "hash": "edee40310913f16e2ca02c1d37887bcb7f07f00399ca119bb7e27de7d632ea99"
  },
  "kernelspec": {
   "display_name": "Python 3.8.10 64-bit ('dioptra': conda)",
   "name": "python3"
  },
  "language_info": {
   "name": "python",
   "version": ""
  }
 },
 "nbformat": 4,
 "nbformat_minor": 4
}
