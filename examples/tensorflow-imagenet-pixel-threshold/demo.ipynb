{
 "cells": [
  {
   "cell_type": "markdown",
   "metadata": {},
   "source": [
    "# Tensorflow ImageNet Pixel Threshold demo"
   ]
  },
  {
   "cell_type": "markdown",
   "metadata": {},
   "source": [
    ">⚠️ **Warning:** This demo assumes that you have access to an on-prem deployment of Dioptra that provides a copy of the ImageNet dataset and a CUDA-compatible GPU.\n",
    "> This demo cannot be run on a typical personal computer.\n",
    "\n",
    "This notebook contains a demonstration of how to use Dioptra to run experiments that investigate the effects of the pixel threshold attack when launched on a neural network model trained on the ImageNet dataset."
   ]
  },
  {
   "cell_type": "markdown",
   "metadata": {},
   "source": [
    "## Setup"
   ]
  },
  {
   "cell_type": "markdown",
   "metadata": {},
   "source": [
    "**Note:** This demo is specifically for the NCCoE DGX Workstation with hostname `dgx-station-2`.\n",
    "\n",
    "Port forwarding is required in order to run this demo.\n",
    "The recommended port mapping is as follows:\n",
    "\n",
    "- Map `*:20080` on laptop to `localhost:30080` on `dgx-station-2`\n",
    "- Map `*:25000` on laptop to `localhost:35000` on `dgx-station-2`\n",
    "\n",
    "A sample SSH config file that enables the above port forwarding is provided below,\n",
    "\n",
    "> ⚠️ **Edits required**: replace `username` with your assigned username _on the NCCoE virtual machines_!"
   ]
  },
  {
   "cell_type": "markdown",
   "metadata": {},
   "source": [
    "```conf\n",
    "# vm hostname: jumphost001\n",
    "Host nccoe-jumphost001\n",
    "    Hostname 10.33.53.98\n",
    "    User username  # Change to your assigned username on the NCCoE virtual machines!\n",
    "    Port 54131\n",
    "    IdentityFile %d/.ssh/nccoe-vm\n",
    "\n",
    "# vm hostname: dgx-station-2\n",
    "Host nccoe-k8s-gpu002\n",
    "    Hostname 192.168.1.28\n",
    "    User username  # Change to your assigned username on the NCCoE virtual machines!\n",
    "    Port 22\n",
    "    IdentityFile %d/.ssh/nccoe-vm\n",
    "    ProxyJump nccoe-jumphost001\n",
    "    LocalForward *:20080 localhost:30080\n",
    "    LocalForward *:25000 localhost:35000\n",
    "```"
   ]
  },
  {
   "cell_type": "markdown",
   "metadata": {},
   "source": [
    "Now, connect to the NCCoE VPN and SSH into the DGX Workstation,"
   ]
  },
  {
   "cell_type": "markdown",
   "metadata": {},
   "source": [
    "```bash\n",
    "ssh nccoe-k8s-gpu002\n",
    "```"
   ]
  },
  {
   "cell_type": "markdown",
   "metadata": {},
   "source": [
    "Next, we import the necessary Python modules and ensure the proper environment variables are set so that all the code blocks will work as expected.\n",
    "\n",
    "> ⚠️ **Edits possibly required**: update the value of the `HOST_DOCKER_INTERNAL` variable\n",
    "\n",
    "If this notebook is being served to you via Docker (i.e. you ran `make jupyter` to launch this notebook), **then you may need to change the value assigned to the variable `HOST_DOCKER_INTERNAL`** to make the port forwarding you configured in the previous step accessible within the container.\n",
    "The value you need to assign to the variable to depends on your host device's operating system:\n",
    "\n",
    "- **Case 1: Host operating system is Windows 10 or MacOS**\n",
    "  - Set `HOST_DOCKER_INTERNAL = \"host.docker.internal\"`. This is the default setting.\n",
    "- **Case 2: Host operating system is Linux**\n",
    "  - Run either `ip address` or `ifconfig` to print a list of the available network interfaces on your host device\n",
    "  - Locate the `docker0` interface and take note of the associated IP address (this is commonly set to `172.17.0.1`)\n",
    "  - Set `HOST_DOCKER_INTERNAL` equal to the IP address for the `docker0` interface. So, if the IP address was `172.17.0.1`, then you would set `HOST_DOCKER_INTERNAL = \"172.17.0.1\"`\n",
    "  \n",
    "If you started your Jupyter Lab instance from a conda environment, then you do not need to change anything.\n",
    "The code below uses an environment variable to check whether this notebook is being served via the `jupyter` service, and if that variable isn't found, then the connection address reverts to `localhost` and ignores the `HOST_DOCKER_INTERNAL` variable."
   ]
  },
  {
   "cell_type": "code",
   "execution_count": null,
   "metadata": {},
   "outputs": [],
   "source": [
    "# Import packages from the Python standard library\n",
    "import os\n",
    "import pprint\n",
    "import time\n",
    "import warnings\n",
    "from pathlib import Path\n",
    "from typing import Tuple\n",
    "\n",
    "# Filter out warning messages\n",
    "warnings.filterwarnings(\"ignore\")\n",
    "\n",
    "# Address for connecting the docker container to exposed ports on the host device\n",
    "HOST_DOCKER_INTERNAL = \"host.docker.internal\"\n",
    "# HOST_DOCKER_INTERNAL = \"172.17.0.1\"\n",
    "\n",
    "# Dioptra API ports\n",
    "RESTAPI_PORT = \"30080\"\n",
    "MLFLOW_TRACKING_PORT = \"35000\"\n",
    "\n",
    "# Default address for accessing the RESTful API service\n",
    "RESTAPI_ADDRESS = (\n",
    "    f\"http://{HOST_DOCKER_INTERNAL}:{RESTAPI_PORT}\"\n",
    "    if os.getenv(\"IS_JUPYTER_SERVICE\")\n",
    "    else f\"http://localhost:{RESTAPI_PORT}\"\n",
    ")\n",
    "\n",
    "# Override the DIOPTRA_RESTAPI_URI variable, used to connect to RESTful API service\n",
    "os.environ[\"DIOPTRA_RESTAPI_URI\"] = RESTAPI_ADDRESS\n",
    "\n",
    "# Default address for accessing the MLFlow Tracking server\n",
    "MLFLOW_TRACKING_URI = (\n",
    "    f\"http://{HOST_DOCKER_INTERNAL}:{MLFLOW_TRACKING_PORT}\"\n",
    "    if os.getenv(\"IS_JUPYTER_SERVICE\")\n",
    "    else f\"http://localhost:{MLFLOW_TRACKING_PORT}\"\n",
    ")\n",
    "\n",
    "# Override the MLFLOW_TRACKING_URI variable, used to connect to MLFlow Tracking service\n",
    "os.environ[\"MLFLOW_TRACKING_URI\"] = MLFLOW_TRACKING_URI\n",
    "\n",
    "# Base API address\n",
    "RESTAPI_API_BASE = f\"{RESTAPI_ADDRESS}/api\"\n",
    "\n",
    "# Path to workflows archive\n",
    "WORKFLOWS_TAR_GZ = Path(\"workflows.tar.gz\")\n",
    "\n",
    "# Experiment name (note the username_ prefix convention)\n",
    "EXPERIMENT_NAME = \"jtsexton_imagenet_pixel_threshold\"\n",
    "\n",
    "# Path to dataset\n",
    "data_path_imagenet = \"/nfs/data/ImageNet-Kaggle-2017/images/ILSVRC/Data/CLS-LOC\"\n",
    "\n",
    "# Import third-party Python packages\n",
    "import numpy as np\n",
    "import requests\n",
    "from mlflow.tracking import MlflowClient\n",
    "\n",
    "# Import utils.py file\n",
    "import utils\n",
    "\n",
    "# Create random number generator\n",
    "rng = np.random.default_rng(54399264723942495723666216079516778448)"
   ]
  },
  {
   "cell_type": "markdown",
   "metadata": {},
   "source": [
    "## Submit and run jobs"
   ]
  },
  {
   "cell_type": "markdown",
   "metadata": {},
   "source": [
    "The entrypoints that we will be running in this example are implemented in the Python source files under `src/` and the `MLproject` file.\n",
    "To run these entrypoints within Dioptra's architecture, we need to package those files up into an archive and submit it to the Dioptra RESTful API to create a new job.\n",
    "For convenience, the `Makefile` provides a rule for creating the archive file for this example, just run `make workflows`,"
   ]
  },
  {
   "cell_type": "code",
   "execution_count": null,
   "metadata": {},
   "outputs": [],
   "source": [
    "%%bash\n",
    "\n",
    "# Create the workflows.tar.gz file\n",
    "make workflows"
   ]
  },
  {
   "cell_type": "markdown",
   "metadata": {},
   "source": [
    "To connect with the endpoint, we will use a client class defined in the `utils.py` file that is able to connect with the Dioptra RESTful API using the HTTP protocol.\n",
    "We connect using the client below, which uses the environment variable `DIOPTRA_RESTAPI_URI` to figure out how to connect to the Dioptra RESTful API,"
   ]
  },
  {
   "cell_type": "code",
   "execution_count": null,
   "metadata": {},
   "outputs": [],
   "source": [
    "restapi_client = utils.DioptraClient()"
   ]
  },
  {
   "cell_type": "markdown",
   "metadata": {},
   "source": [
    "We need to register an experiment under which to collect our job runs.\n",
    "The code below checks if the relevant experiment exists.\n",
    "If it does, then it just returns info about the experiment, if it doesn't, it then registers the new experiment."
   ]
  },
  {
   "cell_type": "code",
   "execution_count": null,
   "metadata": {},
   "outputs": [],
   "source": [
    "response_experiment = restapi_client.get_experiment_by_name(name=experiment)\n",
    "\n",
    "if response_experiment is None or \"Not Found\" in response_experiment.get(\"message\", []):\n",
    "    response_experiment = restapi_client.register_experiment(name=experiment)\n",
    "\n",
    "response_experiment"
   ]
  },
  {
   "cell_type": "markdown",
   "metadata": {},
   "source": [
    "We should also check which queues are available for running our jobs to make sure that the resources that we need are available.\n",
    "The code below queries the Lab API and returns a list of active queues."
   ]
  },
  {
   "cell_type": "code",
   "execution_count": null,
   "metadata": {},
   "outputs": [],
   "source": [
    "restapi_client.list_queues()"
   ]
  },
  {
   "cell_type": "markdown",
   "metadata": {},
   "source": [
    "Next, we need to create our model.\n",
    "In this example, we will be using an existing ImageNet classifier, and not training a new one. So, we use the ```init_model``` entry point to simply initialize an existing model."
   ]
  },
  {
   "cell_type": "code",
   "execution_count": null,
   "metadata": {},
   "outputs": [],
   "source": [
    "response_train = restapi_client.submit_job(\n",
    "    workflows_file=WORKFLOWS_TAR_GZ,\n",
    "    experiment_name=EXPERIMENT_NAME,\n",
    "    entry_point=\"init_model\",\n",
    "    entry_point_kwargs=\" \".join([\n",
    "        f\"-P data_dir={data_path_imagenet}/val-sorted-5000\",\n",
    "    ]),\n",
    "    queue=\"tensorflow_gpu\",\n",
    "    timeout=\"1h\",\n",
    ")\n",
    "\n",
    "pprint.pprint(response_train)"
   ]
  },
  {
   "cell_type": "markdown",
   "metadata": {},
   "source": [
    "Now that we have an ImageNet model, we can run the Pixel Threshold attack on it.\n",
    "The Pixel Threshold attack attempts to change a limited number of pixels in a test image in an attempt to get it misclassified.\n",
    "It has two main arguments:\n",
    "\n",
    "| parameter | data type | description |\n",
    "| --- | --- | --- |\n",
    "| th | int | The maximum number of pixels it is allowed to change |\n",
    "| `es` | int | If 0, then use the CMA-ES strategy, or if 1, use the DE strategy for evolution |"
   ]
  },
  {
   "cell_type": "code",
   "execution_count": null,
   "metadata": {},
   "outputs": [],
   "source": [
    "def mlflow_run_id_is_not_known(response_pt):\n",
    "    return response_pt[\"mlflowRunId\"] is None and response_pt[\"status\"] not in [\n",
    "        \"failed\",\n",
    "        \"finished\",\n",
    "    ]\n",
    "\n",
    "response_pt = restapi_client.submit_job(\n",
    "    workflows_file=WORKFLOWS_TAR_GZ,\n",
    "    experiment_name=EXPERIMENT_NAME,\n",
    "    entry_point=\"pt\",\n",
    "    entry_point_kwargs=\" \".join(\n",
    "        [\n",
    "            f\"-P model=keras-model-imagenet-resnet50/6\",\n",
    "            \"-P model_architecture=alex_net\",\n",
    "            f\"-P data_dir={data_path_imagenet}\",\n",
    "            \"-P batch_size=32\",\n",
    "            \"-P th=1\",\n",
    "            \"-P es=1\",\n",
    "        ]\n",
    "    ),\n",
    "    queue=\"tensorflow_gpu\",\n",
    "    timeout=\"1h\"\n",
    ")\n",
    "\n",
    "pprint.pprint(response_pt)"
   ]
  }
 ],
 "metadata": {
  "interpreter": {
   "hash": "edee40310913f16e2ca02c1d37887bcb7f07f00399ca119bb7e27de7d632ea99"
  },
  "kernelspec": {
   "display_name": "Python 3.8.10 64-bit ('dioptra': conda)",
   "name": "python3"
  },
  "language_info": {
   "name": "python",
   "version": ""
  }
 },
 "nbformat": 4,
 "nbformat_minor": 4
}
