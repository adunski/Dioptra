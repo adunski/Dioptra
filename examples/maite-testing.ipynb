{
 "cells": [
  {
   "cell_type": "code",
   "execution_count": 1,
   "id": "de59cab1-2501-4a5b-87fe-b0a94749bded",
   "metadata": {},
   "outputs": [],
   "source": [
    "import maite"
   ]
  },
  {
   "cell_type": "code",
   "execution_count": 2,
   "id": "b6a9313f-dae1-497b-b1a1-0e2d6ea47df2",
   "metadata": {},
   "outputs": [
    {
     "data": {
      "text/plain": [
       "['CIFAR10',\n",
       " 'CIFAR100',\n",
       " 'CLEVRClassification',\n",
       " 'CREStereo',\n",
       " 'Caltech101',\n",
       " 'Caltech256',\n",
       " 'CarlaStereo',\n",
       " 'CelebA',\n",
       " 'Cityscapes',\n",
       " 'CocoCaptions',\n",
       " 'CocoDetection',\n",
       " 'Country211',\n",
       " 'DTD',\n",
       " 'DatasetFolder',\n",
       " 'EMNIST',\n",
       " 'ETH3DStereo',\n",
       " 'EuroSAT',\n",
       " 'FER2013',\n",
       " 'FGVCAircraft',\n",
       " 'FakeData']"
      ]
     },
     "execution_count": 2,
     "metadata": {},
     "output_type": "execute_result"
    }
   ],
   "source": [
    "from maite import list_datasets\n",
    "\n",
    "list_datasets(provider=\"torchvision\")[:20]"
   ]
  },
  {
   "cell_type": "code",
   "execution_count": 1,
   "id": "431c0b44-5fba-4013-9ee1-aba473a55d3a",
   "metadata": {},
   "outputs": [
    {
     "ename": "NameError",
     "evalue": "name 'list_datasets' is not defined",
     "output_type": "error",
     "traceback": [
      "\u001b[0;31m---------------------------------------------------------------------------\u001b[0m",
      "\u001b[0;31mNameError\u001b[0m                                 Traceback (most recent call last)",
      "Cell \u001b[0;32mIn[1], line 1\u001b[0m\n\u001b[0;32m----> 1\u001b[0m \u001b[43mlist_datasets\u001b[49m(provider\u001b[38;5;241m=\u001b[39m\u001b[38;5;124m\"\u001b[39m\u001b[38;5;124mhuggingface\u001b[39m\u001b[38;5;124m\"\u001b[39m)\n",
      "\u001b[0;31mNameError\u001b[0m: name 'list_datasets' is not defined"
     ]
    }
   ],
   "source": [
    "list_datasets(provider=\"huggingface\")"
   ]
  },
  {
   "cell_type": "code",
   "execution_count": 2,
   "id": "d435ef8b-2182-4fb0-8c10-39e0edb1c230",
   "metadata": {},
   "outputs": [
    {
     "ename": "ModuleNotFoundError",
     "evalue": "No module named 'maite'",
     "output_type": "error",
     "traceback": [
      "\u001b[0;31m---------------------------------------------------------------------------\u001b[0m",
      "\u001b[0;31mModuleNotFoundError\u001b[0m                       Traceback (most recent call last)",
      "Cell \u001b[0;32mIn[2], line 1\u001b[0m\n\u001b[0;32m----> 1\u001b[0m \u001b[38;5;28;01mfrom\u001b[39;00m \u001b[38;5;21;01mmaite\u001b[39;00m \u001b[38;5;28;01mimport\u001b[39;00m load_dataset\n\u001b[1;32m      2\u001b[0m dataset \u001b[38;5;241m=\u001b[39m load_dataset(\n\u001b[1;32m      3\u001b[0m     provider\u001b[38;5;241m=\u001b[39m\u001b[38;5;124m\"\u001b[39m\u001b[38;5;124mhuggingface\u001b[39m\u001b[38;5;124m\"\u001b[39m,\n\u001b[1;32m      4\u001b[0m     dataset_name\u001b[38;5;241m=\u001b[39m\u001b[38;5;124m\"\u001b[39m\u001b[38;5;124mcifar10\u001b[39m\u001b[38;5;124m\"\u001b[39m,\n\u001b[1;32m      5\u001b[0m     task\u001b[38;5;241m=\u001b[39m\u001b[38;5;124m\"\u001b[39m\u001b[38;5;124mimage-classification\u001b[39m\u001b[38;5;124m\"\u001b[39m,\n\u001b[1;32m      6\u001b[0m     split\u001b[38;5;241m=\u001b[39m\u001b[38;5;124m\"\u001b[39m\u001b[38;5;124mtest\u001b[39m\u001b[38;5;124m\"\u001b[39m\n\u001b[1;32m      7\u001b[0m )\n",
      "\u001b[0;31mModuleNotFoundError\u001b[0m: No module named 'maite'"
     ]
    }
   ],
   "source": [
    "from maite import load_dataset\n",
    "dataset = load_dataset(\n",
    "    provider=\"huggingface\",\n",
    "    dataset_name=\"cifar10\",\n",
    "    task=\"image-classification\",\n",
    "    split=\"test\"\n",
    ")"
   ]
  },
  {
   "cell_type": "code",
   "execution_count": null,
   "id": "92c4390e-efc6-46e1-a6d4-03d2478aee90",
   "metadata": {},
   "outputs": [],
   "source": [
    "dataset[0]"
   ]
  },
  {
   "cell_type": "code",
   "execution_count": null,
   "id": "c0bf9ebd-e222-4518-8b4d-8e220706d8f7",
   "metadata": {},
   "outputs": [],
   "source": [
    "from maite import list_models\n",
    "\n",
    "len(list_models(provider=\"torchvision\", task=\"image-classification\"))"
   ]
  },
  {
   "cell_type": "code",
   "execution_count": null,
   "id": "31c21ebe-05c3-4220-a64d-fbc49d757031",
   "metadata": {},
   "outputs": [],
   "source": [
    "from torchvision.transforms.functional import to_tensor\n",
    "dataset.set_transform(\n",
    "    lambda x: {\n",
    "        \"image\": to_tensor(x[\"image\"].resize((224,224))),\n",
    "        \"label\": x[\"label\"]\n",
    "    }\n",
    ")\n",
    "data = dataset[0]\n",
    "print(data[\"image\"].shape)\n"
   ]
  },
  {
   "cell_type": "code",
   "execution_count": null,
   "id": "de1c4d78-c64c-42fd-a6f7-31d4e6524eee",
   "metadata": {},
   "outputs": [],
   "source": [
    "models = list_models(\n",
    "    provider=\"huggingface\",\n",
    "    task=\"image-classification\",\n",
    "    model_name=\"cifar10\"\n",
    ")\n",
    "sorted([m.id for m in models])[:20]"
   ]
  },
  {
   "cell_type": "code",
   "execution_count": null,
   "id": "8f627eb7-de7b-4225-9523-6a43efaae70c",
   "metadata": {},
   "outputs": [],
   "source": [
    "from maite import load_model\n",
    "\n",
    "model = load_model(\n",
    "    provider=\"huggingface\",\n",
    "    model_name=\"aaraki/vit-base-patch16-224-in21k-finetuned-cifar10\",\n",
    "    task=\"image-classification\"\n",
    ")"
   ]
  },
  {
   "cell_type": "code",
   "execution_count": null,
   "id": "15f6204c-906f-459d-8498-53671e3e6ac3",
   "metadata": {},
   "outputs": [],
   "source": [
    "data = dataset[0]\n",
    "output = model(data[\"image\"])"
   ]
  },
  {
   "cell_type": "code",
   "execution_count": null,
   "id": "7ade660f-fa6d-47ae-af55-bb405283b3cb",
   "metadata": {},
   "outputs": [],
   "source": [
    "output"
   ]
  },
  {
   "cell_type": "code",
   "execution_count": null,
   "id": "c686163e-5309-4fc0-9a4f-6fe8b4be226c",
   "metadata": {},
   "outputs": [],
   "source": [
    "print(output.probs.argmax(dim=1).item())\n",
    "print(dataset[0][\"label\"])\n"
   ]
  },
  {
   "cell_type": "code",
   "execution_count": null,
   "id": "a102f1a4-788f-4fc1-a0b6-3c5bb8d42911",
   "metadata": {},
   "outputs": [],
   "source": [
    "from maite import list_metrics\n",
    "len(list_metrics(provider=\"torchmetrics\"))"
   ]
  },
  {
   "cell_type": "code",
   "execution_count": null,
   "id": "b3e00d09-c402-438e-935a-210ff0cf077f",
   "metadata": {},
   "outputs": [],
   "source": [
    "len(list_metrics(provider=\"torcheval\"))"
   ]
  },
  {
   "cell_type": "code",
   "execution_count": null,
   "id": "8af4ead0-0872-4a6e-82c8-9eafc456b0d5",
   "metadata": {},
   "outputs": [],
   "source": [
    "from maite import load_metric\n",
    "metric = load_metric(\n",
    "    provider=\"torchmetrics\",\n",
    "    metric_name=\"Accuracy\",\n",
    "    task=\"multiclass\",\n",
    "    num_classes=10\n",
    ")"
   ]
  },
  {
   "cell_type": "code",
   "execution_count": null,
   "id": "37552b98-1c01-468b-a202-4ce660f27e2d",
   "metadata": {},
   "outputs": [],
   "source": [
    "metric"
   ]
  },
  {
   "cell_type": "code",
   "execution_count": null,
   "id": "01e1df60-4546-45dd-bf4f-31fbccf82f4a",
   "metadata": {},
   "outputs": [],
   "source": [
    "from maite import evaluate\n",
    "\n",
    "evaluator = evaluate(task=\"image-classification\")"
   ]
  },
  {
   "cell_type": "code",
   "execution_count": null,
   "id": "75a6b771-5cf4-4ee6-a26c-55b09ea8e6a5",
   "metadata": {},
   "outputs": [],
   "source": [
    "dataset_subset = [dataset[i] for i in range(256)]"
   ]
  },
  {
   "cell_type": "code",
   "execution_count": null,
   "id": "a1b063c1-a20d-45eb-8b9c-c42630a2e7de",
   "metadata": {},
   "outputs": [],
   "source": [
    "dataset_subset"
   ]
  },
  {
   "cell_type": "code",
   "execution_count": null,
   "id": "5434a8f7-dec4-4d73-9119-3fc9e95cf94b",
   "metadata": {},
   "outputs": [],
   "source": [
    "output = evaluator(\n",
    "    model,\n",
    "    dataset_subset,\n",
    "    metric=dict(accuracy=metric),\n",
    "    batch_size=32,\n",
    ")\n"
   ]
  },
  {
   "cell_type": "code",
   "execution_count": null,
   "id": "9006bb22-ec34-483f-a13a-2b373ce0ed98",
   "metadata": {},
   "outputs": [],
   "source": [
    "output"
   ]
  },
  {
   "cell_type": "code",
   "execution_count": 29,
   "id": "48ca60f5-f30d-4985-a116-64a87a141138",
   "metadata": {},
   "outputs": [
    {
     "data": {
      "text/plain": [
       "['artifact_hub']"
      ]
     },
     "execution_count": 29,
     "metadata": {},
     "output_type": "execute_result"
    }
   ],
   "source": [
    "from maite.interop.provider import list_providers\n",
    "list_providers()"
   ]
  },
  {
   "cell_type": "code",
   "execution_count": null,
   "id": "1d2751f5-dd68-42d8-9e48-7502a39bb5cf",
   "metadata": {},
   "outputs": [],
   "source": []
  }
 ],
 "metadata": {
  "kernelspec": {
   "display_name": "Python 3 (ipykernel)",
   "language": "python",
   "name": "python3"
  },
  "language_info": {
   "codemirror_mode": {
    "name": "ipython",
    "version": 3
   },
   "file_extension": ".py",
   "mimetype": "text/x-python",
   "name": "python",
   "nbconvert_exporter": "python",
   "pygments_lexer": "ipython3",
   "version": "3.10.13"
  }
 },
 "nbformat": 4,
 "nbformat_minor": 5
}
