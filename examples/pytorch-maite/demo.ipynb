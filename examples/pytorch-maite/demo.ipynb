{
 "cells": [
  {
   "attachments": {},
   "cell_type": "markdown",
   "metadata": {},
   "source": [
    "# MAITE Compatibility demo"
   ]
  },
  {
   "attachments": {},
   "cell_type": "markdown",
   "metadata": {},
   "source": [
    "This notebook contains an end-to-end demostration of Dioptra that can be run on any modern laptop."
   ]
  },
  {
   "attachments": {},
   "cell_type": "markdown",
   "metadata": {},
   "source": [
    "## Setup"
   ]
  },
  {
   "attachments": {},
   "cell_type": "markdown",
   "metadata": {},
   "source": [
    "Below we import the necessary Python modules and ensure the proper environment variables are set so that all the code blocks will work as expected."
   ]
  },
  {
   "cell_type": "code",
   "execution_count": null,
   "metadata": {},
   "outputs": [],
   "source": [
    "# Import packages from the Python standard library\n",
    "import importlib.util\n",
    "import os\n",
    "import sys\n",
    "import pprint\n",
    "import time\n",
    "import warnings\n",
    "from pathlib import Path\n",
    "\n",
    "\n",
    "def register_python_source_file(module_name: str, filepath: Path) -> None:\n",
    "    \"\"\"Import a source file directly.\n",
    "\n",
    "    Args:\n",
    "        module_name: The module name to associate with the imported source file.\n",
    "        filepath: The path to the source file.\n",
    "\n",
    "    Notes:\n",
    "        Adapted from the following implementation in the Python documentation:\n",
    "        https://docs.python.org/3/library/importlib.html#importing-a-source-file-directly\n",
    "    \"\"\"\n",
    "    spec = importlib.util.spec_from_file_location(module_name, str(filepath))\n",
    "    module = importlib.util.module_from_spec(spec)\n",
    "    sys.modules[module_name] = module\n",
    "    spec.loader.exec_module(module)\n",
    "\n",
    "\n",
    "# Filter out warning messages\n",
    "warnings.filterwarnings(\"ignore\")\n",
    "\n",
    "# Experiment name\n",
    "EXPERIMENT_NAME = \"pytorch_maite\"\n",
    "\n",
    "# Default address for accessing the RESTful API service\n",
    "RESTAPI_ADDRESS = \"http://localhost:30080\"\n",
    "\n",
    "# Set DIOPTRA_RESTAPI_URI variable if not defined, used to connect to RESTful API service\n",
    "os.environ[\"DIOPTRA_RESTAPI_URI\"] = RESTAPI_ADDRESS\n",
    "\n",
    "# Default address for accessing the MLFlow Tracking server\n",
    "MLFLOW_TRACKING_URI = \"http://localhost:35000\"\n",
    "\n",
    "# Set MLFLOW_TRACKING_URI variable, used to connect to MLFlow Tracking service\n",
    "if os.getenv(\"MLFLOW_TRACKING_URI\") is None:\n",
    "    os.environ[\"MLFLOW_TRACKING_URI\"] = MLFLOW_TRACKING_URI\n",
    "\n",
    "# Path to workflows archive\n",
    "WORKFLOWS_TAR_GZ = Path(\"workflows.tar.gz\")\n",
    "\n",
    "# Register the examples/scripts directory as a Python module\n",
    "register_python_source_file(\"scripts\", Path(\"..\", \"scripts\", \"__init__.py\"))\n",
    "\n",
    "from scripts.client import DioptraClient\n",
    "from scripts.utils import make_tar\n",
    "\n",
    "# Import third-party Python packages\n",
    "import numpy as np\n",
    "from mlflow.tracking import MlflowClient\n",
    "\n",
    "# Create random number generator\n",
    "rng = np.random.default_rng(54399264723942495723666216079516778448)"
   ]
  },
  {
   "attachments": {},
   "cell_type": "markdown",
   "metadata": {},
   "source": [
    "## Submit and run jobs"
   ]
  },
  {
   "attachments": {},
   "cell_type": "markdown",
   "metadata": {},
   "source": [
    "The entrypoints that we will be running in this example are implemented in the Python source files under `src/` and the `src/MLproject` file.\n",
    "To run these entrypoints within Dioptra's architecture, we need to package those files up into an archive and submit it to the Dioptra RESTful API to create a new job.\n",
    "For convenience, we provide the `make_tar` helper function defined in `examples/scripts/utils.py`."
   ]
  },
  {
   "cell_type": "code",
   "execution_count": null,
   "metadata": {},
   "outputs": [],
   "source": [
    "def mlflow_run_id_is_not_known(response_fgm):\n",
    "    return response_fgm[\"mlflowRunId\"] is None and response_fgm[\"status\"] not in [\n",
    "        \"failed\",\n",
    "        \"finished\",\n",
    "    ]"
   ]
  },
  {
   "cell_type": "code",
   "execution_count": null,
   "metadata": {},
   "outputs": [],
   "source": [
    "make_tar([\"src\"], WORKFLOWS_TAR_GZ)"
   ]
  },
  {
   "attachments": {},
   "cell_type": "markdown",
   "metadata": {},
   "source": [
    "To connect with the endpoint, we will use a client class defined in the `examples/scripts/client.py` file that is able to connect with the Dioptra RESTful API using the HTTP protocol.\n",
    "We connect using the client below.\n",
    "The client uses the environment variable `DIOPTRA_RESTAPI_URI`, which we configured at the top of the notebook, to figure out how to connect to the Dioptra RESTful API.\n",
    "\n",
    "The MlflowClient object is used to retrieve our results."
   ]
  },
  {
   "cell_type": "code",
   "execution_count": null,
   "metadata": {},
   "outputs": [],
   "source": [
    "restapi_client = DioptraClient()\n",
    "mlflow_client = MlflowClient()"
   ]
  },
  {
   "attachments": {},
   "cell_type": "markdown",
   "metadata": {},
   "source": [
    "We need to register an experiment under which to collect our job runs.\n",
    "The code below checks if the relevant experiment exists.\n",
    "If it does, then it just returns info about the experiment, if it doesn't, it then registers the new experiment."
   ]
  },
  {
   "cell_type": "code",
   "execution_count": null,
   "metadata": {},
   "outputs": [],
   "source": [
    "!python ../scripts/register_task_plugins.py --force --plugins-dir ../task-plugins --api-url http://localhost:30080"
   ]
  },
  {
   "cell_type": "code",
   "execution_count": null,
   "metadata": {},
   "outputs": [],
   "source": [
    "!python ../scripts/register_queues.py --api-url http://localhost:30080"
   ]
  },
  {
   "cell_type": "code",
   "execution_count": null,
   "metadata": {
    "scrolled": true
   },
   "outputs": [],
   "source": [
    "response_experiment = restapi_client.get_experiment_by_name(name=EXPERIMENT_NAME)\n",
    "\n",
    "if response_experiment is None or \"Not Found\" in response_experiment.get(\"message\", []):\n",
    "    response_experiment = restapi_client.register_experiment(name=EXPERIMENT_NAME)\n",
    "\n",
    "response_experiment"
   ]
  },
  {
   "cell_type": "markdown",
   "metadata": {},
   "source": [
    "The `full_workflow` entry point tests basic MAITE functionality: load a dataset from huggingface, load a model from huggingface, load a metric from torchvision and run that metric on that model/dataset. It also saves the model into MLFlow."
   ]
  },
  {
   "cell_type": "code",
   "execution_count": null,
   "metadata": {},
   "outputs": [],
   "source": [
    "def get_output(res):\n",
    "    while mlflow_run_id_is_not_known(res) or res['status'] != \"finished\":\n",
    "        time.sleep(1)\n",
    "        res = restapi_client.get_job_by_id(res[\"jobId\"])\n",
    "    out = mlflow_client.get_run(res[\"mlflowRunId\"])\n",
    "    pprint.pprint(out.data.metrics)"
   ]
  },
  {
   "cell_type": "code",
   "execution_count": null,
   "metadata": {},
   "outputs": [],
   "source": [
    "response_test_metrics = restapi_client.submit_job(\n",
    "    workflows_file=WORKFLOWS_TAR_GZ,\n",
    "    experiment_name=EXPERIMENT_NAME,\n",
    "    entry_point=\"full_workflow\",\n",
    "    entry_point_kwargs=\" \".join([\n",
    "        \"-P dataset_name=cifar10\",\n",
    "        \"-P subset=32\"\n",
    "    ]),\n",
    "    queue=\"pytorch_cpu\",\n",
    "    timeout=\"1h\",\n",
    ")\n",
    "pprint.pprint(response_test_metrics)"
   ]
  },
  {
   "cell_type": "markdown",
   "metadata": {},
   "source": [
    "The `save_model` entry point loads a model from huggingface and saves it to MLFlow."
   ]
  },
  {
   "cell_type": "code",
   "execution_count": null,
   "metadata": {},
   "outputs": [],
   "source": [
    "response_model = restapi_client.submit_job(\n",
    "    workflows_file=WORKFLOWS_TAR_GZ,\n",
    "    experiment_name=EXPERIMENT_NAME,\n",
    "    entry_point=\"save_model\",\n",
    "    entry_point_kwargs=\" \".join([\n",
    "    ]),\n",
    "    queue=\"pytorch_cpu\",\n",
    "    timeout=\"1h\",\n",
    ")\n",
    "pprint.pprint(response_model)"
   ]
  },
  {
   "cell_type": "markdown",
   "metadata": {},
   "source": [
    "The `test_model` entrypoint loads the previously saved model from MLFlow into a MAITE-readable format, and then uses maite to test metrics and a dataset on it.\n",
    "\n",
    "Note: Currently this saves the dataset to /dioptra/data/tmp - make sure the docker container has permissions to write to this area or change the location this is saved to. "
   ]
  },
  {
   "cell_type": "code",
   "execution_count": null,
   "metadata": {},
   "outputs": [],
   "source": [
    "while mlflow_run_id_is_not_known(response_model):\n",
    "    time.sleep(1)\n",
    "    response_model = restapi_client.get_job_by_id(response_model[\"jobId\"])\n",
    "\n",
    "response_use_model = restapi_client.submit_job(\n",
    "    workflows_file=WORKFLOWS_TAR_GZ,\n",
    "    experiment_name=EXPERIMENT_NAME,\n",
    "    entry_point=\"test_model\",\n",
    "    entry_point_kwargs=\" \".join([\n",
    "        \"-P model_name=loaded_model\",\n",
    "        \"-P model_version=1\",\n",
    "        \"-P subset=500\"\n",
    "    ]),\n",
    "    queue=\"pytorch_cpu\",\n",
    "    timeout=\"1h\",\n",
    ")"
   ]
  },
  {
   "cell_type": "markdown",
   "metadata": {},
   "source": [
    "The `load_dataset` entrypoint loads a dataset from disk, puts it into maite format, then loads a model and metric using maite and runs it on that dataset."
   ]
  },
  {
   "cell_type": "code",
   "execution_count": null,
   "metadata": {},
   "outputs": [],
   "source": [
    "response_load_dataset = restapi_client.submit_job(\n",
    "    workflows_file=WORKFLOWS_TAR_GZ,\n",
    "    experiment_name=EXPERIMENT_NAME,\n",
    "    entry_point=\"load_dataset\",\n",
    "    entry_point_kwargs=\" \".join([\n",
    "        \"-P subset=400\"\n",
    "    ]),\n",
    "    queue=\"pytorch_cpu\",\n",
    "    timeout=\"1h\",\n",
    ")"
   ]
  },
  {
   "cell_type": "markdown",
   "metadata": {},
   "source": [
    "The `gen` entrypoint loads a dataset using MAITE, runs the specified attack on it, saves the output of the attack to MLFlow as an artifact, and has the option to write the original dataset to disk (configurable). The `do_gen_attack` function takes the class name of the attack, as well as a dictionary of parameters. Any unnecessary parameters will be filtered out and reported in the logs.\n",
    "\n",
    "Note: While this function in theory could work with poisoning attacks since it uses heart-lib, and does not have anything specifically requiring an evasion attack, at the time of writing there did not seem to exist a compatible poisoning example. This is largely due to poisoning examples requiring either knowledge of the feature layers from the model (and this information is not available in the context of this notebook) or in the case of PoisoningAttackBackdoor, due to an incompatibility with heartlib. It is possible that in the future this may be corrected and that example may work. "
   ]
  },
  {
   "cell_type": "code",
   "execution_count": null,
   "metadata": {},
   "outputs": [],
   "source": [
    "import json, shlex\n",
    "def format_kwargs(library, name, kwargs_dict):\n",
    "    jsd = json.dumps(kwargs_dict, separators=(',',':'))\n",
    "    args = [\n",
    "        \"subset=100\",\n",
    "        \"save_original=False\",\n",
    "        \"batch_size=2\",\n",
    "        f\"attack_name={name}\",\n",
    "        f\"attack_library={library}\",\n",
    "        f\"attack_kwargs={jsd}\"\n",
    "    ]\n",
    "    \n",
    "    cmdline = \" \".join(\n",
    "        \"-P \" + shlex.quote(arg) for arg in args\n",
    "    )\n",
    "    return cmdline\n",
    "    \n",
    "def do_gen_attack(attack_name, kwargs_dict={},  attack_library='art.attacks.evasion'):\n",
    "    cmdline = format_kwargs(attack_library, attack_name, kwargs_dict)\n",
    "    return restapi_client.submit_job(\n",
    "        workflows_file=WORKFLOWS_TAR_GZ,\n",
    "        experiment_name=EXPERIMENT_NAME,\n",
    "        entry_point=\"gen\",\n",
    "        entry_point_kwargs=cmdline,\n",
    "        queue=\"pytorch_cpu\",\n",
    "        timeout=\"1h\",\n",
    "    )\n"
   ]
  },
  {
   "cell_type": "code",
   "execution_count": null,
   "metadata": {},
   "outputs": [],
   "source": [
    "response_gen_fgm = do_gen_attack(\"FastGradientMethod\", {'eps': 0.3, 'eps_step': 0.1, 'norm': 'inf', 'minimal': False})"
   ]
  },
  {
   "cell_type": "code",
   "execution_count": null,
   "metadata": {},
   "outputs": [],
   "source": [
    "# may require GPU\n",
    "response_gen_pt = do_gen_attack(\"PixelAttack\", {})"
   ]
  },
  {
   "cell_type": "code",
   "execution_count": null,
   "metadata": {},
   "outputs": [],
   "source": [
    "# may require GPU\n",
    "response_gen_pgd = do_gen_attack(\"ProjectedGradientDescentPyTorch\", {})"
   ]
  },
  {
   "cell_type": "code",
   "execution_count": null,
   "metadata": {},
   "outputs": [],
   "source": [
    "# may require GPU\n",
    "response_gen_hsj = do_gen_attack(\"HopSkipJump\", {})"
   ]
  },
  {
   "cell_type": "code",
   "execution_count": null,
   "metadata": {
    "scrolled": true
   },
   "outputs": [],
   "source": [
    "# does not work currently due to problem with heartlib, but includes syntax for passing an existing function as an argument, and also for using a different library\n",
    "# response_gen_poison = do_gen_attack(\"PoisoningAttackBackdoor\", {'perturbation_FUNCTION': 'art.attacks.poisoning.perturbations.add_single_bd' }, attack_library='art.attacks.poisoning')"
   ]
  },
  {
   "cell_type": "markdown",
   "metadata": {},
   "source": [
    "The `infer` entrypoint takes the previously generated fgm attack results and runs it against a given model and metric. It is included here as a function and tested against 4 models on huggingface from different authors. Note that not all CIFAR10 targeted models on huggingface are compatible for various reasons - missing `config.json`, different requirements for data formatting, etc. The examples included below worked at the time of testing.\n",
    "\n",
    "Although MAITE supports torchvision as a provider as well, torchvision does not seem to provide pretrained CIFAR10 models. An ImageNET example may be more suited to cross-testing torchvision and huggingface models."
   ]
  },
  {
   "cell_type": "code",
   "execution_count": null,
   "metadata": {},
   "outputs": [],
   "source": [
    "def test_cifar10_fgm(provider, model):\n",
    "    global response_gen_fgm\n",
    "    while mlflow_run_id_is_not_known(response_gen_fgm):\n",
    "        time.sleep(1)\n",
    "        response_gen_fgm = restapi_client.get_job_by_id(response_gen_fgm[\"jobId\"])\n",
    "    response_infer_fgm = restapi_client.submit_job(\n",
    "        workflows_file=WORKFLOWS_TAR_GZ,\n",
    "        experiment_name=EXPERIMENT_NAME,\n",
    "        entry_point=\"infer\",\n",
    "        entry_point_kwargs=\" \".join([\n",
    "            f\"-P run_id={response_gen_fgm['mlflowRunId']}\",\n",
    "            f\"-P model_provider_name={provider}\",\n",
    "            f\"-P model_name={model}\",\n",
    "            f\"-P model_task=image-classification\"\n",
    "        ]),\n",
    "        queue=\"pytorch_cpu\",\n",
    "        timeout=\"1h\",\n",
    "        depends_on=response_gen_fgm[\"jobId\"],\n",
    "    )\n",
    "    return response_infer_fgm"
   ]
  },
  {
   "cell_type": "code",
   "execution_count": null,
   "metadata": {},
   "outputs": [],
   "source": [
    "model1_results = test_cifar10_fgm(\"huggingface\",\"aaraki/vit-base-patch16-224-in21k-finetuned-cifar10\")\n",
    "get_output(model1_results)"
   ]
  },
  {
   "cell_type": "code",
   "execution_count": null,
   "metadata": {},
   "outputs": [],
   "source": [
    "model2_results = test_cifar10_fgm(\"huggingface\",\"abhishek/autotrain_cifar10_vit_base\")\n",
    "get_output(model2_results)"
   ]
  },
  {
   "cell_type": "code",
   "execution_count": null,
   "metadata": {},
   "outputs": [],
   "source": [
    "model3_results = test_cifar10_fgm(\"huggingface\",\"Weili/vit-base-patch16-224-finetuned-cifar10\")\n",
    "get_output(model3_results)"
   ]
  },
  {
   "cell_type": "code",
   "execution_count": null,
   "metadata": {},
   "outputs": [],
   "source": [
    "model4_results = test_cifar10_fgm(\"huggingface\",\"arize-ai/resnet-50-cifar10-quality-drift\")\n",
    "get_output(model4_results)"
   ]
  }
 ],
 "metadata": {
  "interpreter": {
   "hash": "edee40310913f16e2ca02c1d37887bcb7f07f00399ca119bb7e27de7d632ea99"
  },
  "kernelspec": {
   "display_name": "Python 3 (ipykernel)",
   "language": "python",
   "name": "python3"
  },
  "language_info": {
   "codemirror_mode": {
    "name": "ipython",
    "version": 3
   },
   "file_extension": ".py",
   "mimetype": "text/x-python",
   "name": "python",
   "nbconvert_exporter": "python",
   "pygments_lexer": "ipython3",
   "version": "3.10.13"
  }
 },
 "nbformat": 4,
 "nbformat_minor": 4
}
