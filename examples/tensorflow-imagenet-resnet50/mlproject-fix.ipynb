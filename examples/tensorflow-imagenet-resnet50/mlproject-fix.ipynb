{
 "cells": [
  {
   "cell_type": "code",
   "execution_count": 8,
   "id": "a7fc24d5-298b-4651-bfdc-d664afb74b57",
   "metadata": {},
   "outputs": [],
   "source": [
    "output = []\n",
    "with open('src/MLproject') as f:\n",
    "    lines = f.readlines()\n",
    "    for p in lines:\n",
    "        if '--' in p:\n",
    "            p = p.replace('-', '_').replace('__', '-P ').replace(' {', '={')\n",
    "        if 'python' in p and '.py' in p:\n",
    "            tokens = p.split()\n",
    "            filename = tokens[1].split('.')[0]\n",
    "            p = \"      PYTHONPATH=$DIOPTRA_PLUGIN_DIR validate-experiment {file}.yml && PYTHONPATH=$DIOPTRA_PLUGIN_DIR run-experiment {file}.yml\\n\".format(file=filename)            \n",
    "        if '\"28,28,1\"' in p:\n",
    "            p = p.replace('\"28,28,1\"', '\"[28,28,1]\"')\n",
    "        output += [p]\n",
    "with open('src/MLProject-new', 'w+') as f:\n",
    "    f.writelines(output)    "
   ]
  },
  {
   "cell_type": "code",
   "execution_count": null,
   "id": "60589e67-5563-428a-9556-9b5aad683b04",
   "metadata": {},
   "outputs": [],
   "source": []
  }
 ],
 "metadata": {
  "kernelspec": {
   "display_name": "Python 3 (ipykernel)",
   "language": "python",
   "name": "python3"
  },
  "language_info": {
   "codemirror_mode": {
    "name": "ipython",
    "version": 3
   },
   "file_extension": ".py",
   "mimetype": "text/x-python",
   "name": "python",
   "nbconvert_exporter": "python",
   "pygments_lexer": "ipython3",
   "version": "3.9.5"
  }
 },
 "nbformat": 4,
 "nbformat_minor": 5
}
