{
 "cells": [
  {
   "cell_type": "markdown",
   "metadata": {},
   "source": [
    "# Tensorflow Road Signs YOLO Demo"
   ]
  },
  {
   "cell_type": "markdown",
   "metadata": {},
   "source": [
    ">⚠️ **Warning:** This demo assumes that you have access to an on-prem deployment of Dioptra that provides a copy of the Road Signs dataset and a CUDA-compatible GPU.\n",
    "> This demo cannot be run on a typical personal computer.\n",
    "\n",
    "The demo provided in the Jupyter notebook `demo.ipynb` contains an example of how to set up and train a model based on the YOLO v1 architecture and use it to perform object detection on the Road Signs dataset."
   ]
  },
  {
   "cell_type": "markdown",
   "metadata": {},
   "source": [
    "## Setup"
   ]
  },
  {
   "cell_type": "code",
   "execution_count": null,
   "metadata": {},
   "outputs": [],
   "source": [
    "# Import packages from the Python standard library\n",
    "import os\n",
    "import pprint\n",
    "import warnings\n",
    "from pathlib import Path\n",
    "\n",
    "# Please enter custom username here.\n",
    "USERNAME = \"dioptra_user\"\n",
    "\n",
    "# Filter out warning messages\n",
    "warnings.filterwarnings(\"ignore\")\n",
    "\n",
    "# Address for connecting the docker container to exposed ports on the host device\n",
    "HOST_DOCKER_INTERNAL = \"host.docker.internal\"\n",
    "# HOST_DOCKER_INTERNAL = \"172.17.0.1\"\n",
    "\n",
    "# Testbed API ports\n",
    "RESTAPI_PORT = \"20080\"\n",
    "MLFLOW_TRACKING_PORT = \"25000\"\n",
    "\n",
    "# Default address for accessing the RESTful API service\n",
    "if os.getenv(\"DIOPTRA_RESTAPI_URI\") is None:\n",
    "    RESTAPI_ADDRESS = (\n",
    "        f\"http://{HOST_DOCKER_INTERNAL}:{RESTAPI_PORT}\"\n",
    "        if os.getenv(\"IS_JUPYTER_SERVICE\")\n",
    "        else f\"http://localhost:{RESTAPI_PORT}\"\n",
    "    )\n",
    "\n",
    "    # Override the AI_RESTAPI_URI variable, used to connect to RESTful API service\n",
    "    os.environ[\"DIOPTRA_RESTAPI_URI\"] = RESTAPI_ADDRESS\n",
    "\n",
    "else:\n",
    "    RESTAPI_ADDRESS = os.environ[\"DIOPTRA_RESTAPI_URI\"]\n",
    "\n",
    "# Default address for accessing the MLFlow Tracking server\n",
    "if os.getenv(\"MLFLOW_TRACKING_URI\") is None:\n",
    "    MLFLOW_TRACKING_URI = (\n",
    "        f\"http://{HOST_DOCKER_INTERNAL}:{MLFLOW_TRACKING_PORT}\"\n",
    "        if os.getenv(\"IS_JUPYTER_SERVICE\")\n",
    "        else f\"http://localhost:{MLFLOW_TRACKING_PORT}\"\n",
    "    )\n",
    "\n",
    "    # Override the MLFLOW_TRACKING_URI variable, used to connect to MLFlow Tracking service\n",
    "    os.environ[\"MLFLOW_TRACKING_URI\"] = MLFLOW_TRACKING_URI\n",
    "\n",
    "else:\n",
    "    MLFLOW_TRACKING_URI = os.environ[\"MLFLOW_TRACKING_URI\"]\n",
    "\n",
    "# Path to custom task plugins archives\n",
    "CUSTOM_PLUGINS_BACKEND_CONFIGS_TAR_GZ = Path(\"custom-plugins-backend-configs.tar.gz\")\n",
    "CUSTOM_PLUGINS_EVALUATION_TAR_GZ = Path(\"custom-plugins-evaluation.tar.gz\")\n",
    "CUSTOM_PLUGINS_ROADSIGNS_YOLO_TAR_GZ = Path(\"custom-plugins-roadsigns-yolo.tar.gz\")\n",
    "CUSTOM_PLUGINS_TRACKING_TAR_GZ = Path(\"custom-plugins-tracking.tar.gz\")\n",
    "\n",
    "# Base API address\n",
    "RESTAPI_API_BASE = f\"{RESTAPI_ADDRESS}/api\"\n",
    "\n",
    "# Path to workflows archive\n",
    "WORKFLOWS_TAR_GZ = Path(\"workflows.tar.gz\")\n",
    "\n",
    "# Experiment name (note the username_ prefix convention)\n",
    "EXPERIMENT_NAME = f\"{USERNAME}_roadsigns_yolo\"\n",
    "\n",
    "# Path to read-only datasets directory (inside container)\n",
    "DATASET_DIR = \"/nfs/data\"\n",
    "\n",
    "# Import third-party Python packages\n",
    "import numpy as np\n",
    "\n",
    "# Import utils.py file\n",
    "import utils\n",
    "\n",
    "# Create random number generator\n",
    "rng = np.random.default_rng(54399264723942495723666216079516778448)"
   ]
  },
  {
   "cell_type": "markdown",
   "metadata": {},
   "source": [
    "## Dataset"
   ]
  },
  {
   "cell_type": "markdown",
   "metadata": {},
   "source": [
    "This demo provides updated labels and a predefined train/test split for the Road Signs dataset (https://makeml.app/datasets/road-signs).\n",
    "Use the script `data/download_roadsigns_data.py` to download the original dataset and unpack and organize the files into the predefined train/test split.\n",
    "The script also prepends all the filenames with a 5-digit prefix (`00001` through `00136`) that groups the images into \"tracks\".\n",
    "The `00000` prefix is reserved for images that do not belong to a track.\n",
    "\n",
    "A track is a sequence of correlated images sampled from a video clip of the same physical, real-world object.\n",
    "Because the images within each track are highly correlated, each track should either be placed in the training set or the testing set as a group.\n",
    "Splitting the images from a single track across the training and testing set will result in data leakage.\n",
    "\n",
    "Object bounding boxes are provided in the PascalVOC format, which separates the images and annotations into the following folders:\n",
    "\n",
    "    annotations/   (xml files)\n",
    "    images/        (png files)\n",
    "\n",
    "The PascalVOC format uses filenames to associate images with their corresponding annotation.\n",
    "For example, the image file `images/00000_road10.png` would have an associated annotation file `annotations/00000_road10.xml`.\n",
    "\n",
    "To use the download script, ensure that you have the following packages installed in your current Python environment:\n",
    "\n",
    "- click\n",
    "- pandas\n",
    "- requests\n",
    "- rich\n",
    "\n",
    "Then run the following to download the data:\n",
    "\n",
    "```sh\n",
    "python ./data/download_roadsigns_data.py --data-dir ./data --clean --upgrade\n",
    "```\n",
    "\n",
    "After downloading the dataset using the `data/download_roadsigns_data.py` script, the data will have the following folder structure:"
   ]
  },
  {
   "cell_type": "markdown",
   "metadata": {},
   "source": [
    "    Road-Sign-Detection-v2\n",
    "    ├── testing\n",
    "    │   ├── annotations\n",
    "    │   └── images\n",
    "    └── training\n",
    "        ├── annotations\n",
    "        └── images"
   ]
  },
  {
   "cell_type": "markdown",
   "metadata": {},
   "source": [
    "## Submit and run jobs"
   ]
  },
  {
   "cell_type": "markdown",
   "metadata": {},
   "source": [
    "The entrypoints that we will be running in this example are implemented in the Python source files under `src/` and the `MLproject` file.\n",
    "To run these entrypoints within the testbed architecture, we need to package those files up into an archive and submit it to the Testbed RESTful API to create a new job.\n",
    "For convenience, the `Makefile` provides a rule for creating the archive file for this example, just run `make workflows`,"
   ]
  },
  {
   "cell_type": "code",
   "execution_count": null,
   "metadata": {},
   "outputs": [],
   "source": [
    "%%bash\n",
    "\n",
    "# Create the workflows.tar.gz file\n",
    "make workflows"
   ]
  },
  {
   "cell_type": "markdown",
   "metadata": {},
   "source": [
    "To connect with the endpoint, we will use a client class defined in the `utils.py` file that is able to connect with the Testbed RESTful API using the HTTP protocol.\n",
    "We connect using the client below, which uses the environment variable `DIOPTRA_RESTAPI_URI` to figure out how to connect to the Testbed RESTful API,"
   ]
  },
  {
   "cell_type": "code",
   "execution_count": null,
   "metadata": {},
   "outputs": [],
   "source": [
    "restapi_client = utils.DioptraClient()"
   ]
  },
  {
   "cell_type": "markdown",
   "metadata": {},
   "source": [
    "We need to register an experiment under which to collect our job runs.\n",
    "The code below checks if the relevant experiment exists.\n",
    "If it does, then it just returns info about the experiment, if it doesn't, it then registers the new experiment."
   ]
  },
  {
   "cell_type": "code",
   "execution_count": null,
   "metadata": {},
   "outputs": [],
   "source": [
    "response_experiment = restapi_client.get_experiment_by_name(name=EXPERIMENT_NAME)\n",
    "\n",
    "if response_experiment is None or \"Not Found\" in response_experiment.get(\"message\", []):\n",
    "    response_experiment = restapi_client.register_experiment(name=EXPERIMENT_NAME)\n",
    "\n",
    "response_experiment"
   ]
  },
  {
   "cell_type": "markdown",
   "metadata": {},
   "source": [
    "We should also check which queues are available for running our jobs to make sure that the resources that we need are available.\n",
    "The code below queries the Testbed API and returns a list of active queues."
   ]
  },
  {
   "cell_type": "code",
   "execution_count": null,
   "metadata": {},
   "outputs": [],
   "source": [
    "restapi_client.list_queues()"
   ]
  },
  {
   "cell_type": "markdown",
   "metadata": {},
   "source": [
    "The code below can be used to register the `tensorflow_gpu` queue if you have GPU workers but you have not registered this queue within Dioptra yet. \n",
    "If you are using a different queue name, then you should update `name=\"tensorflow_gpu\"` accordingly."
   ]
  },
  {
   "cell_type": "code",
   "execution_count": null,
   "metadata": {},
   "outputs": [],
   "source": [
    "response_queue = restapi_client.get_queue_by_name(name=\"tensorflow_gpu\")\n",
    "\n",
    "if response_queue is None or \"Not Found\" in response_queue.get(\"message\", []):\n",
    "    response_queue = restapi_client.register_queue(name=\"tensorflow_gpu\")\n",
    "\n",
    "response_queue"
   ]
  },
  {
   "cell_type": "markdown",
   "metadata": {},
   "source": [
    "This example also makes use of the `backend_configs`, `evaluation`, `roadsigns_yolo`, and `tracking` packages stored locally under the `task-plugins/dioptra_custom` directory.\n",
    "To register these custom task plugins, we first need to package them up into an archive.\n",
    "For convenience, the `Makefile` provides a rule for creating the custom task plugins archive file, just run `make custom-plugins`,"
   ]
  },
  {
   "cell_type": "code",
   "execution_count": null,
   "metadata": {},
   "outputs": [],
   "source": [
    "%%bash\n",
    "\n",
    "# Create the workflows.tar.gz file\n",
    "make custom-plugins"
   ]
  },
  {
   "cell_type": "markdown",
   "metadata": {},
   "source": [
    "Now that the custom task plugin packages are packaged into archive files, next we register them by uploading the files to the REST API.\n",
    "Note that we need to provide the name to use for custom task plugin package, and this name must be unique under the custom task plugins namespace.\n",
    "For a full list of the custom task plugins, use `restapi_client.list_custom_task_plugins()`."
   ]
  },
  {
   "cell_type": "code",
   "execution_count": null,
   "metadata": {},
   "outputs": [],
   "source": [
    "restapi_client.list_custom_task_plugins()"
   ]
  },
  {
   "cell_type": "markdown",
   "metadata": {},
   "source": [
    "The code below will upload any custom task plugins that are **new** and not already registered."
   ]
  },
  {
   "cell_type": "code",
   "execution_count": null,
   "metadata": {},
   "outputs": [],
   "source": [
    "response_backend_configs_custom_plugins = restapi_client.get_custom_task_plugin(name=\"backend_configs\")\n",
    "\n",
    "if response_backend_configs_custom_plugins is None or \"Not Found\" in response_backend_configs_custom_plugins.get(\"message\", []):\n",
    "    response_backend_configs_custom_plugins = restapi_client.upload_custom_plugin_package(\n",
    "        custom_plugin_name=\"backend_configs\",\n",
    "        custom_plugin_file=CUSTOM_PLUGINS_BACKEND_CONFIGS_TAR_GZ,\n",
    "    )\n",
    "\n",
    "print(response_backend_configs_custom_plugins)\n",
    "\n",
    "response_evaluation_custom_plugins = restapi_client.get_custom_task_plugin(name=\"evaluation\")\n",
    "\n",
    "if response_evaluation_custom_plugins is None or \"Not Found\" in response_evaluation_custom_plugins.get(\"message\", []):\n",
    "    response_evaluation_custom_plugins = restapi_client.upload_custom_plugin_package(\n",
    "        custom_plugin_name=\"evaluation\",\n",
    "        custom_plugin_file=CUSTOM_PLUGINS_EVALUATION_TAR_GZ,\n",
    "    )\n",
    "\n",
    "print(response_evaluation_custom_plugins)\n",
    "\n",
    "response_roadsigns_custom_plugins = restapi_client.get_custom_task_plugin(name=\"roadsigns_yolo\")\n",
    "\n",
    "if response_roadsigns_custom_plugins is None or \"Not Found\" in response_roadsigns_custom_plugins.get(\"message\", []):\n",
    "    response_roadsigns_custom_plugins = restapi_client.upload_custom_plugin_package(\n",
    "        custom_plugin_name=\"roadsigns_yolo\",\n",
    "        custom_plugin_file=CUSTOM_PLUGINS_ROADSIGNS_YOLO_TAR_GZ,\n",
    "    )\n",
    "\n",
    "print(response_roadsigns_custom_plugins)\n",
    "\n",
    "response_tracking_custom_plugins = restapi_client.get_custom_task_plugin(name=\"tracking\")\n",
    "\n",
    "if response_tracking_custom_plugins is None or \"Not Found\" in response_tracking_custom_plugins.get(\"message\", []):\n",
    "    response_tracking_custom_plugins = restapi_client.upload_custom_plugin_package(\n",
    "        custom_plugin_name=\"tracking\",\n",
    "        custom_plugin_file=CUSTOM_PLUGINS_TRACKING_TAR_GZ,\n",
    "    )\n",
    "\n",
    "print(response_tracking_custom_plugins)"
   ]
  },
  {
   "cell_type": "markdown",
   "metadata": {},
   "source": [
    "If at any point you need to update one or more files within the `backend_configs`, `evaluation`, `roadsigns_yolo`, or `tracking` packages, you will need to unregister/delete the custom task plugin first using the REST API.\n",
    "This can be done as follows,"
   ]
  },
  {
   "cell_type": "markdown",
   "metadata": {},
   "source": [
    "```python\n",
    "# Delete the 'backend_configs' custom task plugin package\n",
    "restapi_client.delete_custom_task_plugin(name=\"backend_configs\")\n",
    "\n",
    "# Delete the 'evaluation' custom task plugin package\n",
    "restapi_client.delete_custom_task_plugin(name=\"evaluation\")\n",
    "\n",
    "# Delete the `roadsigns_yolo_estimators` package\n",
    "restapi_client.delete_custom_task_plugin(name=\"roadsigns_yolo\")\n",
    "\n",
    "# Delete the `tracking` package\n",
    "restapi_client.delete_custom_task_plugin(name=\"tracking\")\n",
    "```"
   ]
  },
  {
   "cell_type": "markdown",
   "metadata": {},
   "source": [
    "After you have deleted the task plugin in the testbed, re-run the `make custom-plugins` code block to update the package archive, then upload the updated plugin by re-running the `restapi_client.upload_custom_plugin_package` block."
   ]
  },
  {
   "cell_type": "markdown",
   "metadata": {},
   "source": [
    "We are now ready to use transfer learning to create a YOLO v1 object detection model for the Road Signs dataset.\n",
    "Copy the code below into a new code block, and update the parameters as needed.\n",
    "A full list of adjustable parameters can be found in the `MLproject` file. "
   ]
  },
  {
   "cell_type": "markdown",
   "metadata": {},
   "source": [
    "```python\n",
    "# Submit transfer learning job for the mobilenet_v2 + yolo network architecture\n",
    "response_efficientnetb1_two_headed_transfer_learn = restapi_client.submit_job(\n",
    "    workflows_file=WORKFLOWS_TAR_GZ,\n",
    "    experiment_name=EXPERIMENT_NAME,\n",
    "    queue=\"tensorflow_gpu\",\n",
    "    timeout=\"72h\",\n",
    "    entry_point=\"transfer_learn\",\n",
    "    entry_point_kwargs=\" \".join([\n",
    "        \"-P epochs=400\",\n",
    "        \"-P batch_size=128\",\n",
    "        \"-P image_size=448,448,3\",\n",
    "        f\"-P training_dir={DATASET_DIR}/Road-Sign-Detection-v2/training\",\n",
    "        f\"-P validation_dir={DATASET_DIR}/Road-Sign-Detection-v2/testing\",\n",
    "        f\"-P register_model_name={EXPERIMENT_NAME}_efficientnetb1_two_headed\",\n",
    "    ]),\n",
    ")\n",
    "\n",
    "print(\"Transfer learning job for EfficientNet (B1) + two-headed YOLO detector submitted\")\n",
    "print(\"\")\n",
    "pprint.pprint(response_efficientnetb1_two_headed_transfer_learn)\n",
    "```"
   ]
  }
 ],
 "metadata": {
  "interpreter": {
   "hash": "e33109616acda8419b5a0fcee6d17e38a4a7853db70d63bd97deca72b05105f3"
  },
  "kernelspec": {
   "display_name": "Python 3 (ipykernel)",
   "language": "python",
   "name": "python3"
  },
  "language_info": {
   "codemirror_mode": {
    "name": "ipython",
    "version": 3
   },
   "file_extension": ".py",
   "mimetype": "text/x-python",
   "name": "python",
   "nbconvert_exporter": "python",
   "pygments_lexer": "ipython3",
   "version": "3.9.12"
  }
 },
 "nbformat": 4,
 "nbformat_minor": 4
}
